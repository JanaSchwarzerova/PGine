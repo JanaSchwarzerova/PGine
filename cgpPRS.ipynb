{
  "nbformat": 4,
  "nbformat_minor": 0,
  "metadata": {
    "colab": {
      "provenance": []
    },
    "kernelspec": {
      "name": "python3",
      "display_name": "Python 3"
    },
    "language_info": {
      "name": "python"
    }
  },
  "cells": [
    {
      "cell_type": "markdown",
      "source": [
        "<h1> Polygenic Risk Score (PRS) Calculation using Cartesian Genetic Programming (CGP)\n",
        "\n",
        "---\n",
        "\n",
        "Authors:<br>\n",
        "Martin Hurta<br>\n",
        "Faculty of Information Technology,<br>\n",
        "Brno University of Technology,<br>\n",
        "Czechia<br>\n",
        "\n",
        "Jana Schwarzerova<br>\n",
        "Faculty of Electrical Engineering and Communication,<br>\n",
        "Brno University of Technology,<br>\n",
        "Czechia<br>\n",
        "\n",
        "---\n",
        "\n",
        "Version: 1.0<br>\n",
        "Last update: 2023-10-05\n",
        "\n",
        "---\n",
        "\n",
        "\n",
        "Import of libraries and software"
      ],
      "metadata": {
        "id": "UaVaMHDOSi_V"
      }
    },
    {
      "cell_type": "code",
      "source": [
        "# Publicly available libraries and software\n",
        "import numpy as np\n",
        "import pandas as pd\n",
        "from multiprocessing import Pool, cpu_count\n",
        "from sklearn.model_selection import KFold\n",
        "import matplotlib.pyplot as plt\n",
        "# CGP library yet to be published\n",
        "from cgp import CGP\n",
        "from functions import add, sub, mul, p_div, identity, p_sqrt, power_f, sin_f, cos_f, abs_f, minimum_f, maximum_f"
      ],
      "metadata": {
        "id": "i60LJKHgSjNm"
      },
      "execution_count": null,
      "outputs": []
    },
    {
      "cell_type": "markdown",
      "source": [
        "Load dataset data from provided paths. If list of specific snps is provided, only they will be loaded.\n",
        "\n",
        "Args:\n",
        "* genotype_path (str): String of path to genotype data.\n",
        "* phenotype_path (str): String of path to phenotype data.\n",
        "* snps (ndarray): Array of snps names only which will be loaded. If none, whole dataset will be loaded.\n",
        "\n",
        "Returns:\n",
        "* ndarray: 2D array of loaded genotype data. Axis 0 corresponds to alleles. Axis 1 corresponds to samples.\n",
        "* ndarray: 1D array of phenotype data.\n",
        "* ndarray: 1D array with names of alleles."
      ],
      "metadata": {
        "id": "SaML_6LrSjam"
      }
    },
    {
      "cell_type": "code",
      "source": [
        "def load_dataset(genotype_path, phenotype_path, snps=None):\n",
        "    # Load genotype data (SNPs) and phenotype data\n",
        "    df_genotype = pd.read_csv(genotype_path)\n",
        "    df_phenotype = pd.read_csv(phenotype_path)\n",
        "\n",
        "    # If list of snps is provided, filter out the rest\n",
        "    if snps is not None:\n",
        "        df_genotype = df_genotype[np.append('Ind', snps)]\n",
        "\n",
        "    # Connect corresponding data\n",
        "    df_data = pd.merge(df_genotype, df_phenotype, on='Ind')\n",
        "\n",
        "    # Remove sample names and create separate input genotype data and phenotypes\n",
        "    df_data = df_data.drop(['Ind'], axis=1)\n",
        "    df_data_x = df_data.drop(['phenotype'], axis=1)\n",
        "    df_data_y = df_data['phenotype']\n",
        "\n",
        "    # Save SNP labels\n",
        "    snp_labels = np.asarray(df_data_x.columns)\n",
        "\n",
        "    # Create numpy arrays for use in CGP\n",
        "    nd_data_x = np.asarray(df_data_x).transpose()\n",
        "    nd_data_y = np.asarray(df_data_y)\n",
        "\n",
        "    return nd_data_x, nd_data_y, snp_labels"
      ],
      "metadata": {
        "id": "1wDFGia5Sjt1"
      },
      "execution_count": null,
      "outputs": []
    },
    {
      "cell_type": "markdown",
      "source": [
        "Training of CGP on data of selected allele.\n",
        "5-fold cross validation is used to obtain 5 separate solutions.\n",
        "Mean fitness across individual folds is returned together with all 5 CGP chromosomes.\n",
        "\n",
        "Args:\n",
        "* data_x (ndarray): 1D array of train input data.\n",
        "* data_y (ndarray): 1D array of train target data.\n",
        "* cgp_params (dict): Parameters of CGP algorithm.\n",
        "\n",
        "Returns:\n",
        "* ndarray: 1D Array with mean fitness over all 5 folds and CGP chromosomes from all 5 folds."
      ],
      "metadata": {
        "id": "mzH5_uopSj-0"
      }
    },
    {
      "cell_type": "code",
      "source": [
        "def snp_calculation(data_x, data_y, cgp_params):\n",
        "    # Fitness and found solutions for the current SNP\n",
        "    fitness = []\n",
        "    solutions = []\n",
        "\n",
        "    # Create 5-fold of data for better picture on CGP performance\n",
        "    skf = KFold(5, shuffle=True)\n",
        "\n",
        "    # Create indices for splitting of data\n",
        "    splits = skf.split(data_x, data_y)\n",
        "\n",
        "    # Run CGP on each of 5 folds and thus get 5 results and 5 CGP solutions\n",
        "    for i, (train_index, test_index) in enumerate(splits):\n",
        "        # Get data to be used for training in current fold\n",
        "        train_x = data_x[train_index]\n",
        "        train_y = data_y[train_index]\n",
        "\n",
        "        # Create CGP according to provided parameters\n",
        "        cgp = CGP(primary_inputs=1, rows=cgp_params[\"num_of_rows\"], columns=cgp_params[\"num_of_columns\"],\n",
        "                  primary_outputs=1, lback=cgp_params[\"num_of_columns\"], pop_size=5, cardinality=2,\n",
        "                  constants=cgp_params[\"constants\"], unary=cgp_params[\"unary_functions\"],\n",
        "                  binary=cgp_params[\"binary_functions\"], mute=True)\n",
        "\n",
        "        # Run evolution and obtain solution and its fitness on train data\n",
        "        solution, train_fitness = cgp.evolution(input_vals=[train_x], target=[train_y],\n",
        "                                                num_of_generations=cgp_params[\"num_of_generations\"], error_type='MSE')\n",
        "\n",
        "        # Save results of the current fold\n",
        "        fitness.append(train_fitness)\n",
        "        solutions.append(solution)\n",
        "\n",
        "    # Return mean train fitness and best solutions over all folds\n",
        "    return np.append(np.mean(fitness), solutions)"
      ],
      "metadata": {
        "id": "Bk4jB7euSkUY"
      },
      "execution_count": null,
      "outputs": []
    },
    {
      "cell_type": "markdown",
      "source": [
        "Learning of CGP on all alleles, effectively running GWAS.\n",
        "Results of GWAS are saved into results_path. Results include row for each allele and columns: allele_name, train fitness and columns for five all parts of CGP genotype.\n",
        "\n",
        "Args:\n",
        "* genotype_path (str): String of path to genotype data.\n",
        "* phenotype_path (str): String of path to phenotype data.\n",
        "* cgp_params (dict): Parameters of CGP algorithm.\n",
        "* results_path (str): File path to save the results.\n"
      ],
      "metadata": {
        "id": "WL7A-suiS8Z-"
      }
    },
    {
      "cell_type": "code",
      "source": [
        "def cgp_gwas(genotype_path, phenotype_path, cgp_params, results_path):\n",
        "    # Load input SNPs data, target phenotypes and labels of individual SNPs\n",
        "    data_x, data_y, snp_labels = load_dataset(genotype_path, phenotype_path)\n",
        "\n",
        "    # Size of CGP chromosome (number_of_nodes(=rows*columns) * (cardinality+function) + number_of_outputs)\n",
        "    num_of_genes = (2 + 1) * cgp_params[\"num_of_rows\"] * cgp_params[\"num_of_columns\"] + 1\n",
        "\n",
        "    # Results of CGP, axis 0 corresponds to the number of SNPs,\n",
        "    # axis 1 contains fitness and chromosomes of found solution per each fold\n",
        "    results = np.empty(shape=(len(data_x), 1 + num_of_genes * 5))\n",
        "\n",
        "    # Names of columns in results\n",
        "    results_columns = ['Fitness'] + ['Gen_' + str(i // num_of_genes) + '_{}'.format(i % num_of_genes)\n",
        "                                     for i in range(num_of_genes * 5)]\n",
        "\n",
        "    # Multiprocess results and array of processes\n",
        "    pool = Pool(processes=cpu_count())\n",
        "    processes = []\n",
        "\n",
        "    # Run CGP algorithm on each SNP and get final fitness and solutions\n",
        "    for snp in data_x:\n",
        "        processes.append(pool.apply_async(snp_calculation, args=(snp, data_y, cgp_params)))\n",
        "\n",
        "    # Get results of CGP from processes\n",
        "    for i in range(len(processes)):\n",
        "        results[i] = processes[i].get()\n",
        "\n",
        "    # Crate dataframe of results and add SNP labels as first column\n",
        "    res_df = pd.DataFrame(results, index=snp_labels, columns=results_columns)\n",
        "    res_df = res_df.reset_index()\n",
        "    res_df = res_df.rename(columns={'index': 'SNP'})\n",
        "\n",
        "    # Save all results into a file\n",
        "    res_df.to_csv(results_path)"
      ],
      "metadata": {
        "id": "Xs3W-9EQS8pb"
      },
      "execution_count": null,
      "outputs": []
    },
    {
      "cell_type": "markdown",
      "source": [
        "Get names and CGPs of SNPs in the best 20% of results obtained by GWAS.\n",
        "\n",
        "Args:\n",
        "* results_path (str): Path to the file with GWAS results.\n",
        "\n",
        "Returns:\n",
        "* ndarray: 1D array with names of SNPs that met the threshold.\n",
        "* ndarray: 2D array with CGP chromosomes for SNPs that met the threshold.\n",
        "* ndarray: 1D array with fitness on SNPs that met the threshold."
      ],
      "metadata": {
        "id": "JeBw9C57S8_k"
      }
    },
    {
      "cell_type": "code",
      "source": [
        "def get_the_top_snps(results_path):\n",
        "    # Read results csv file and drop the first unnamed column\n",
        "    df_results = pd.read_csv(results_path)\n",
        "    df_results = df_results.drop('Unnamed: 0', axis=1)\n",
        "\n",
        "    # Filter the results of SNPs with fitness in the lowest 20% of all SNPs\n",
        "    n_to_use = int(np.ceil(len(df_results) / 5))\n",
        "    df_filtered = df_results.nsmallest(n_to_use, 'Fitness')\n",
        "\n",
        "    # Fitness obtained on individual filtered SNPs\n",
        "    nd_fitness = np.asarray(df_filtered['Fitness'])\n",
        "\n",
        "    # Names of filtered SNPs\n",
        "    nd_snp_labels = np.asarray(df_filtered['SNP'], dtype='str')\n",
        "\n",
        "    # Drop unwanted columns and left only CGP chromosome\n",
        "    df_chromosomes = df_filtered.drop(['SNP', 'Fitness'], axis=1)\n",
        "\n",
        "    # Get numpy array with chromosomes of said SNPs\n",
        "    nd_chromosomes = np.asarray(df_chromosomes, dtype='int')\n",
        "\n",
        "    # Separate 5 chromosomes obtained for each SNP to individual chromosomes\n",
        "    nd_separate_chromosomes = np.asarray([np.array_split(snp_chromosomes, 5) for snp_chromosomes in nd_chromosomes])\n",
        "\n",
        "    return nd_snp_labels, nd_separate_chromosomes, nd_fitness"
      ],
      "metadata": {
        "id": "nxySgyWYS9Pr"
      },
      "execution_count": null,
      "outputs": []
    },
    {
      "cell_type": "markdown",
      "source": [
        "Calculation of PRS from results in provided GWAS file.\n",
        "PRS is calculated for all samples with usage of SNPs with fitness in the top 20% of all SNPs.\n",
        "\n",
        "Args:\n",
        "* results_path (str): Path to the file with GWAS results.\n",
        "* genotype_path (str): String of path to genotype data.\n",
        "* phenotype_path (str): String of path to phenotype data.\n",
        "* cgp_params (dict): Parameters of CGP algorithm.\n",
        "\n",
        "Raises:\n",
        "* Exception: Insufficient number of snps with sufficient fitness!"
      ],
      "metadata": {
        "id": "77Z3DkmrTcE1"
      }
    },
    {
      "cell_type": "code",
      "source": [
        "def cgp_prs(results_path, genotype_path, phenotype_path, cgp_params):\n",
        "    # Get target phenotype data\n",
        "    _, nd_data_y, _ = load_dataset(genotype_path, phenotype_path)\n",
        "\n",
        "    # Calculation of mean phenotype to be used as measure of low vs high plant yield\n",
        "    mean_phenotype = np.mean(nd_data_y)\n",
        "\n",
        "    # Creation of masks for higher and lower values\n",
        "    higher_mask = nd_data_y >= mean_phenotype\n",
        "    lower_mask = nd_data_y < mean_phenotype\n",
        "\n",
        "    # Get SNPs in the top 20% and corresponding CGPs\n",
        "    snps, chromosomes, fitness = get_the_top_snps(results_path + '.csv')\n",
        "\n",
        "    # Inform if there are not any snps with sufficient threshold\n",
        "    if len(snps) < 1:\n",
        "        raise Exception(\"Insufficient number of snps with sufficient fitness!\")\n",
        "\n",
        "    # Load dataset, but only selected SNPs\n",
        "    nd_data_x, nd_data_y, snp_labels = load_dataset(genotype_path, phenotype_path, snps)\n",
        "\n",
        "    # Create CGP\n",
        "    cgp = CGP(primary_inputs=1, rows=cgp_params[\"num_of_rows\"], columns=cgp_params[\"num_of_columns\"], primary_outputs=1,\n",
        "              lback=cgp_params[\"num_of_columns\"], pop_size=1, cardinality=2, constants=cgp_params[\"constants\"],\n",
        "              unary=cgp_params[\"unary_functions\"], binary=cgp_params[\"binary_functions\"], mute=True)\n",
        "\n",
        "    # Results of CGPs on SNPs data\n",
        "    results = []\n",
        "\n",
        "    # Go over each SNP and corresponding CGP solutions\n",
        "    for x, snp_chromosomes in zip(nd_data_x, chromosomes):\n",
        "\n",
        "        # Results over all CGPs\n",
        "        snp_results = []\n",
        "\n",
        "        # Calculate SNP by all five chromosomes\n",
        "        for chromosome in snp_chromosomes:\n",
        "            snp_results.append(cgp.run_candidate_solutions([x], chromosome))\n",
        "\n",
        "        # Calculate mean over five CGP solutions from different folds\n",
        "        beta_over_snp = np.mean(snp_results, axis=0)[0][0]\n",
        "\n",
        "        # Append results over all samples on current SNP\n",
        "        results.append(beta_over_snp)\n",
        "\n",
        "    # Calculate sum over SNPs for each sample\n",
        "    prs_array = np.asarray(np.sum(results, axis=0))\n",
        "\n",
        "    # Filtering of calculated PRS to ones belonging to samples with phenotype higher or lower than mean\n",
        "    higher_prs = prs_array[higher_mask]\n",
        "    lower_prs = prs_array[lower_mask]\n",
        "\n",
        "    return lower_prs, higher_prs"
      ],
      "metadata": {
        "id": "FNEr3uvlTcTt"
      },
      "execution_count": null,
      "outputs": []
    },
    {
      "cell_type": "markdown",
      "source": [
        "Show boxplot of PRS for samples with phenotype lower or higher than phenotype.\n",
        "\n",
        "Args:\n",
        "* results_path (str): Name of used file with results.\n",
        "* higher_prs (ndarray): PRS values for samples with higher phenotype.\n",
        "* lower_prs (ndarray): PRS values for samples with lower phenotype."
      ],
      "metadata": {
        "id": "NFBnbOBgTcg8"
      }
    },
    {
      "cell_type": "code",
      "source": [
        "def boxplot_prs(results_path, lower_prs, higher_prs):\n",
        "    # Creation of boxplot\n",
        "    fig, ax = plt.subplots()\n",
        "\n",
        "    # Title of plot\n",
        "    ax.set_title('PRS on ' + results_path + ' data')\n",
        "\n",
        "    # Creation ox boxplot\n",
        "    ax.boxplot([lower_prs, higher_prs], labels=['Low', 'High'])\n",
        "\n",
        "    # Axis labels\n",
        "    ax.set_xlabel('Rating of plants yield')\n",
        "    ax.set_ylabel('PRS')\n",
        "\n",
        "    # Drawing of the boxplot\n",
        "    plt.show()"
      ],
      "metadata": {
        "id": "DRE3PfuDTcxt"
      },
      "execution_count": null,
      "outputs": []
    },
    {
      "cell_type": "markdown",
      "source": [
        "Main body with parameters settings and run of CGP \"GWAS\" and PRS calculation."
      ],
      "metadata": {
        "id": "QpsBouL0T3hy"
      }
    },
    {
      "cell_type": "code",
      "source": [
        "# Path to file with CGP GWAS results\n",
        "results_path = \"results.csv\"\n",
        "\n",
        "# Genotype file path\n",
        "genotype_path = \"Data/Genotype.csv\"\n",
        "\n",
        "# Phenotype file path\n",
        "phenotype_path = \"Data/Phenotype.csv\"\n",
        "\n",
        "# Parameters of CGP\n",
        "cgp_params = {\n",
        "    \"num_of_generations\": 100,\n",
        "    \"num_of_rows\": 5,\n",
        "    \"num_of_columns\": 5,\n",
        "    \"constants\": [0, 1, 2, np.pi],\n",
        "    \"unary_functions\": [identity, sin_f, cos_f, p_sqrt, power_f, abs_f],\n",
        "    \"binary_functions\": [add, sub, mul, p_div, minimum_f, maximum_f]\n",
        "}\n",
        "\n",
        "# GWAS using CGP\n",
        "cgp_gwas(genotype_path, phenotype_path, cgp_params, results_path)\n",
        "\n",
        "# Calculation of PRS from GWAS data from previous step\n",
        "lower_prs, higher_prs = cgp_prs(results_path, genotype_path, phenotype_path, cgp_params)\n",
        "\n",
        "# Draw box plots of PRS\n",
        "boxplot_prs(results_path, lower_prs, higher_prs)"
      ],
      "metadata": {
        "id": "cMwNhBANT31I"
      },
      "execution_count": null,
      "outputs": []
    }
  ]
}