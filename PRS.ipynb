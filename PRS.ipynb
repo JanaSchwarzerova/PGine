{
  "nbformat": 4,
  "nbformat_minor": 0,
  "metadata": {
    "colab": {
      "provenance": [],
      "authorship_tag": "ABX9TyM3zx4P1G2gvaiy2zq8z2/7",
      "include_colab_link": true
    },
    "kernelspec": {
      "name": "python3",
      "display_name": "Python 3"
    },
    "language_info": {
      "name": "python"
    }
  },
  "cells": [
    {
      "cell_type": "markdown",
      "metadata": {
        "id": "view-in-github",
        "colab_type": "text"
      },
      "source": [
        "<a href=\"https://colab.research.google.com/github/JanaSchwarzerova/PGine/blob/BIBM2023/PRS.ipynb\" target=\"_parent\"><img src=\"https://colab.research.google.com/assets/colab-badge.svg\" alt=\"Open In Colab\"/></a>"
      ]
    },
    {
      "cell_type": "markdown",
      "source": [
        "# **Polygenic Risk Score Calculation**\n",
        "\n",
        "---\n",
        "\n",
        "\n",
        "The implementation of Polygenic Risk Score (PRS)  \n",
        "\n",
        "\n",
        "---\n",
        "Three experiments:\n",
        "\n",
        "\n",
        "1.   *A. thaliana* – data from Weiszmann et al. [1]\n",
        "2.   Barley – data from Gemmer et al. [2]\n",
        "3.   **Maize – data from Millet et al. [3]** (example on maize)\n",
        "\n",
        "\n",
        "\n"
      ],
      "metadata": {
        "id": "LfHc6GFHe4FK"
      }
    },
    {
      "cell_type": "code",
      "source": [
        "! pip install scikit-multiflow"
      ],
      "metadata": {
        "colab": {
          "base_uri": "https://localhost:8080/"
        },
        "id": "bFt08oc_l2jo",
        "outputId": "327779bc-7f3a-4765-f54e-3b7b7f373d32"
      },
      "execution_count": null,
      "outputs": [
        {
          "output_type": "stream",
          "name": "stdout",
          "text": [
            "Collecting scikit-multiflow\n",
            "  Downloading scikit-multiflow-0.5.3.tar.gz (450 kB)\n",
            "\u001b[2K     \u001b[90m━━━━━━━━━━━━━━━━━━━━━━━━━━━━━━━━━━━━━━━\u001b[0m \u001b[32m450.6/450.6 kB\u001b[0m \u001b[31m7.3 MB/s\u001b[0m eta \u001b[36m0:00:00\u001b[0m\n",
            "\u001b[?25h  Preparing metadata (setup.py) ... \u001b[?25l\u001b[?25hdone\n",
            "Requirement already satisfied: sortedcontainers>=1.5.7 in /usr/local/lib/python3.10/dist-packages (from scikit-multiflow) (2.4.0)\n",
            "Requirement already satisfied: numpy>=1.14.0 in /usr/local/lib/python3.10/dist-packages (from scikit-multiflow) (1.23.5)\n",
            "Requirement already satisfied: scipy>=1.0.0 in /usr/local/lib/python3.10/dist-packages (from scikit-multiflow) (1.11.2)\n",
            "Requirement already satisfied: matplotlib>=2.0.0 in /usr/local/lib/python3.10/dist-packages (from scikit-multiflow) (3.7.1)\n",
            "Requirement already satisfied: scikit-learn>=0.20 in /usr/local/lib/python3.10/dist-packages (from scikit-multiflow) (1.2.2)\n",
            "Requirement already satisfied: pandas>=0.25.3 in /usr/local/lib/python3.10/dist-packages (from scikit-multiflow) (1.5.3)\n",
            "Requirement already satisfied: contourpy>=1.0.1 in /usr/local/lib/python3.10/dist-packages (from matplotlib>=2.0.0->scikit-multiflow) (1.1.0)\n",
            "Requirement already satisfied: cycler>=0.10 in /usr/local/lib/python3.10/dist-packages (from matplotlib>=2.0.0->scikit-multiflow) (0.11.0)\n",
            "Requirement already satisfied: fonttools>=4.22.0 in /usr/local/lib/python3.10/dist-packages (from matplotlib>=2.0.0->scikit-multiflow) (4.42.1)\n",
            "Requirement already satisfied: kiwisolver>=1.0.1 in /usr/local/lib/python3.10/dist-packages (from matplotlib>=2.0.0->scikit-multiflow) (1.4.5)\n",
            "Requirement already satisfied: packaging>=20.0 in /usr/local/lib/python3.10/dist-packages (from matplotlib>=2.0.0->scikit-multiflow) (23.1)\n",
            "Requirement already satisfied: pillow>=6.2.0 in /usr/local/lib/python3.10/dist-packages (from matplotlib>=2.0.0->scikit-multiflow) (9.4.0)\n",
            "Requirement already satisfied: pyparsing>=2.3.1 in /usr/local/lib/python3.10/dist-packages (from matplotlib>=2.0.0->scikit-multiflow) (3.1.1)\n",
            "Requirement already satisfied: python-dateutil>=2.7 in /usr/local/lib/python3.10/dist-packages (from matplotlib>=2.0.0->scikit-multiflow) (2.8.2)\n",
            "Requirement already satisfied: pytz>=2020.1 in /usr/local/lib/python3.10/dist-packages (from pandas>=0.25.3->scikit-multiflow) (2023.3.post1)\n",
            "Requirement already satisfied: joblib>=1.1.1 in /usr/local/lib/python3.10/dist-packages (from scikit-learn>=0.20->scikit-multiflow) (1.3.2)\n",
            "Requirement already satisfied: threadpoolctl>=2.0.0 in /usr/local/lib/python3.10/dist-packages (from scikit-learn>=0.20->scikit-multiflow) (3.2.0)\n",
            "Requirement already satisfied: six>=1.5 in /usr/local/lib/python3.10/dist-packages (from python-dateutil>=2.7->matplotlib>=2.0.0->scikit-multiflow) (1.16.0)\n",
            "Building wheels for collected packages: scikit-multiflow\n",
            "  Building wheel for scikit-multiflow (setup.py) ... \u001b[?25l\u001b[?25hdone\n",
            "  Created wheel for scikit-multiflow: filename=scikit_multiflow-0.5.3-cp310-cp310-linux_x86_64.whl size=1254680 sha256=0c7b5806d92289c80ab77f63ecae071774b6cf62f5cff74d1b4b2c341738ca3e\n",
            "  Stored in directory: /root/.cache/pip/wheels/6e/1b/56/45b17a6cf203d98000a45976cb0dd0c4c3f11960e6a505f231\n",
            "Successfully built scikit-multiflow\n",
            "Installing collected packages: scikit-multiflow\n",
            "Successfully installed scikit-multiflow-0.5.3\n"
          ]
        }
      ]
    },
    {
      "cell_type": "markdown",
      "source": [
        "Installation – Libraries & Packages"
      ],
      "metadata": {
        "id": "0kEQMDtygdqQ"
      }
    },
    {
      "cell_type": "code",
      "source": [
        "import pandas as pd\n",
        "import statsmodels.api as sm\n",
        "from sklearn.model_selection import KFold\n",
        "import matplotlib.pyplot as plt"
      ],
      "metadata": {
        "id": "-IEGLyDUgdTX"
      },
      "execution_count": null,
      "outputs": []
    },
    {
      "cell_type": "code",
      "source": [
        "from google.colab import drive\n",
        "drive.mount('/content/drive')"
      ],
      "metadata": {
        "colab": {
          "base_uri": "https://localhost:8080/"
        },
        "id": "zRdJAoJOZP9L",
        "outputId": "d168fc31-6c00-4908-fce0-00315cdf1334"
      },
      "execution_count": null,
      "outputs": [
        {
          "output_type": "stream",
          "name": "stdout",
          "text": [
            "Drive already mounted at /content/drive; to attempt to forcibly remount, call drive.mount(\"/content/drive\", force_remount=True).\n"
          ]
        }
      ]
    },
    {
      "cell_type": "markdown",
      "source": [
        "**Loading data:**"
      ],
      "metadata": {
        "id": "Qk0AK5digRKg"
      }
    },
    {
      "cell_type": "code",
      "source": [
        "#Load data\n",
        "\n",
        "gen = '/content/drive/MyDrive/PRS/Data/Maize_Genotype.csv'\n",
        "phe = '/content/drive/MyDrive/PRS/Data/Maize_Phenotype.csv'\n",
        "\n",
        "genotype_data = pd.read_csv(gen, delimiter=',')\n",
        "phenotype_data = pd.read_csv(phe, delimiter=',')"
      ],
      "metadata": {
        "id": "xFpZeXksmLJJ"
      },
      "execution_count": null,
      "outputs": []
    },
    {
      "cell_type": "markdown",
      "source": [
        "**Conventional Polygenic Risk Score (cPRS):**"
      ],
      "metadata": {
        "id": "0qE5-LtNgTXH"
      }
    },
    {
      "cell_type": "markdown",
      "source": [
        "Genome-wide association study (GWAS)"
      ],
      "metadata": {
        "id": "NdPMceW1r2e-"
      }
    },
    {
      "cell_type": "code",
      "execution_count": null,
      "metadata": {
        "id": "f1mKbjuPezcc"
      },
      "outputs": [],
      "source": [
        "\n",
        "def genome_wide_association_study_with_cv(genotype_data, phenotype_data):\n",
        "    \"\"\"\n",
        "    Computes a genome-wide association study using 5-fold cross-validation.\n",
        "\n",
        "    :param genotype_data: (dataframe) matrix represents SNP information\n",
        "    :param phenotype_data: (dataframe) represents phenotype information (healthy / sick)\n",
        "    :return: p-values, effect size (alias effect alleles) and Manhattan plot\n",
        "    \"\"\"\n",
        "\n",
        "    # Merge genotype and phenotype data by sample ID\n",
        "    data = pd.merge(genotype_data, phenotype_data, on='Ind')\n",
        "\n",
        "    # Initialize lists to store results\n",
        "    results = []\n",
        "    significant_results = []\n",
        "    genotype_data_columns = genotype_data.columns.drop('Ind')\n",
        "\n",
        "    # Define the number of folds for cross-validation\n",
        "    num_folds = 5\n",
        "    kf = KFold(n_splits=num_folds)\n",
        "\n",
        "    for snp in genotype_data_columns:\n",
        "        X = pd.to_numeric(data[snp])\n",
        "        X = sm.add_constant(X)\n",
        "        y = data['phenotype']\n",
        "\n",
        "        p_values = []  # Store p-values from each fold\n",
        "        beta_values = []\n",
        "\n",
        "        # Perform 5-fold cross-validation\n",
        "        for train_index, test_index in kf.split(X):\n",
        "            X_train, X_test = X.iloc[train_index], X.iloc[test_index]\n",
        "            y_train, y_test = y.iloc[train_index], y.iloc[test_index]\n",
        "\n",
        "            model = sm.OLS(y_train, X_train).fit()  # Fit linear regression model on training data\n",
        "            p_value = model.pvalues[snp]  # Calculate p-value on test data\n",
        "            beta = model.params[snp]  # Coefficient represents effect size\n",
        "\n",
        "            p_values.append(p_value)\n",
        "            beta_values.append(beta)\n",
        "\n",
        "        # Calculate the mean p-value from cross-validation\n",
        "        mean_p_value = sum(p_values) / num_folds\n",
        "        mean_beta = sum(beta_values) / num_folds\n",
        "\n",
        "        results.append({'SNP': snp, 'P-Value': mean_p_value, 'Effect Size (Beta)': mean_beta})\n",
        "\n",
        "        # Check if the mean p-value is below the Bonferroni-corrected threshold\n",
        "        alpha = 0.05  # Define the significance level (alpha) for Bonferroni correction\n",
        "        num_tests = len(genotype_data_columns)\n",
        "        bonferroni_threshold = alpha / num_tests\n",
        "\n",
        "        if mean_p_value <= bonferroni_threshold:\n",
        "            significant_results.append({'SNP': snp, 'P-Value': mean_p_value, 'Effect Size (Beta)': mean_beta})\n",
        "\n",
        "    results_df = pd.DataFrame(results)\n",
        "    results_df.to_csv(\"results_GWAS.csv\")\n",
        "\n",
        "    significant_results_df = pd.DataFrame(significant_results)\n",
        "    significant_results_df.to_csv(\"significant_results_GWAS.csv\")\n",
        "\n",
        "    # Return both results and significant results dataframes\n",
        "    return results_df, significant_results_df\n"
      ]
    },
    {
      "cell_type": "code",
      "source": [
        "results, significant_results = genome_wide_association_study_with_cv(genotype_data, phenotype_data)"
      ],
      "metadata": {
        "id": "igikDGChrBf7"
      },
      "execution_count": null,
      "outputs": []
    },
    {
      "cell_type": "markdown",
      "source": [
        "Polygenic Risk Score\n",
        "\n"
      ],
      "metadata": {
        "id": "tRGRwGJTnEE9"
      }
    },
    {
      "cell_type": "code",
      "source": [
        "results_df = pd.DataFrame(results)\n",
        "effect_sizes = results_df.drop('P-Value', axis=1)"
      ],
      "metadata": {
        "id": "1tMu49KTmZH1"
      },
      "execution_count": null,
      "outputs": []
    },
    {
      "cell_type": "code",
      "source": [
        "genotype_data['Ind'] = effect_sizes['SNP']\n",
        "genotype_data.rename(columns={'Ind': 'SNP'}, inplace=True)\n",
        "\n",
        "# Merge genetic_data and effect_sizes DataFrames based on the 'SNP' column\n",
        "alleles = genotype_data.drop('SNP', axis=1).T\n",
        "\n",
        "# Calculate the Polygenic Risk Score and store in a list\n",
        "prs_values = []\n",
        "\n",
        "for ind in range(0, len(alleles.columns)):\n",
        "    prs = (alleles.iloc[ind, :] * effect_sizes['Effect Size (Beta)']).sum()\n",
        "    prs_values.append(prs)\n",
        "\n",
        "# Create a DataFrame from the prs_values list\n",
        "prs_df = pd.DataFrame(prs_values)"
      ],
      "metadata": {
        "id": "ryUTqWUgrHtr"
      },
      "execution_count": null,
      "outputs": []
    },
    {
      "cell_type": "markdown",
      "source": [
        "Visualization"
      ],
      "metadata": {
        "id": "M13ljMUOmgOb"
      }
    },
    {
      "cell_type": "code",
      "source": [
        "# Vizualization – phenotype distribution according mean value\n",
        "phenotype_data_withPRS = phenotype_data\n",
        "phenotype_data_withPRS['PRS'] = prs_values\n",
        "mean_value = phenotype_data_withPRS['phenotype'].mean()\n",
        "above_mean_data = phenotype_data_withPRS[phenotype_data_withPRS['phenotype'] > mean_value]\n",
        "below_mean_data = phenotype_data_withPRS[phenotype_data_withPRS['phenotype'] < mean_value]"
      ],
      "metadata": {
        "id": "qF5kX3aLmf4y"
      },
      "execution_count": null,
      "outputs": []
    },
    {
      "cell_type": "markdown",
      "source": [
        "Visualization of data distribution based on **phenotype**"
      ],
      "metadata": {
        "id": "y-XAQoT5clfi"
      }
    },
    {
      "cell_type": "code",
      "source": [
        "# using boxplot:\n",
        "plt.figure(figsize=(10, 5))\n",
        "plt.subplot(1, 2, 1)\n",
        "plt.boxplot(above_mean_data['phenotype'].dropna())\n",
        "plt.title('Healthy')\n",
        "plt.ylim(min(phenotype_data_withPRS['phenotype']), max(phenotype_data_withPRS['phenotype']))\n",
        "\n",
        "plt.subplot(1, 2, 2)\n",
        "plt.boxplot(below_mean_data['phenotype'].dropna())\n",
        "plt.title('Unhealthy')\n",
        "plt.ylim(min(phenotype_data_withPRS['phenotype']), max(phenotype_data_withPRS['phenotype']))\n",
        "\n",
        "# Show the plot\n",
        "plt.tight_layout()\n",
        "plt.show()\n"
      ],
      "metadata": {
        "id": "sEaFMYsnmdQ6",
        "colab": {
          "base_uri": "https://localhost:8080/",
          "height": 507
        },
        "outputId": "0b8c5ba5-7843-4612-adb2-3b2f761315f1"
      },
      "execution_count": null,
      "outputs": [
        {
          "output_type": "display_data",
          "data": {
            "text/plain": [
              "<Figure size 1000x500 with 2 Axes>"
            ],
            "image/png": "[encoded data removed]"
          },
          "metadata": {}
        }
      ]
    },
    {
      "cell_type": "markdown",
      "source": [
        "Visualization of data distribution based on **PRS**"
      ],
      "metadata": {
        "id": "z8lfMhi7c0FL"
      }
    },
    {
      "cell_type": "code",
      "source": [
        "\n",
        "# using boxplot:\n",
        "plt.figure(figsize=(10, 5))\n",
        "plt.subplot(1, 2, 1)\n",
        "plt.boxplot(above_mean_data['PRS'].dropna())\n",
        "plt.title('Healthy')\n",
        "plt.ylim(min(phenotype_data_withPRS['PRS']), max(phenotype_data_withPRS['PRS']))\n",
        "\n",
        "plt.subplot(1, 2, 2)\n",
        "plt.boxplot(below_mean_data['PRS'].dropna())\n",
        "plt.title('Unhealthy')\n",
        "plt.ylim(min(phenotype_data_withPRS['PRS']), max(phenotype_data_withPRS['PRS']))\n",
        "\n",
        "# Show the plot\n",
        "plt.tight_layout()\n",
        "plt.show()"
      ],
      "metadata": {
        "colab": {
          "base_uri": "https://localhost:8080/",
          "height": 507
        },
        "id": "-ZCpLIZoZIMb",
        "outputId": "6e9ee74c-2018-45d3-d168-324f9b450dd1"
      },
      "execution_count": null,
      "outputs": [
        {
          "output_type": "display_data",
          "data": {
            "text/plain": [
              "<Figure size 1000x500 with 2 Axes>"
            ],
            "image/png": "[encoded data removed]"
          },
          "metadata": {}
        }
      ]
    },
    {
      "cell_type": "markdown",
      "source": [
        "**Polygenic Risk Score using Cartesian Genetic Programming – Effect size as individual functions (cgpPRS I)**\n",
        "\n",
        "\n"
      ],
      "metadata": {
        "id": "tvhfff22nV8v"
      }
    },
    {
      "cell_type": "markdown",
      "source": [],
      "metadata": {
        "id": "sAS_448asPnf"
      }
    },
    {
      "cell_type": "code",
      "source": [],
      "metadata": {
        "id": "NYM-d21xsPYg"
      },
      "execution_count": null,
      "outputs": []
    },
    {
      "cell_type": "markdown",
      "source": [
        "Visualization\n"
      ],
      "metadata": {
        "id": "bje9Dm43nqXH"
      }
    },
    {
      "cell_type": "code",
      "source": [],
      "metadata": {
        "id": "UD_UgGQbnp5_"
      },
      "execution_count": null,
      "outputs": []
    },
    {
      "cell_type": "markdown",
      "source": [
        "**Polygenic Risk Score using Cartesian Genetic Programming – Effect size as individual coded representations (cgpPRS II)**"
      ],
      "metadata": {
        "id": "tlDg4sErsQ_v"
      }
    },
    {
      "cell_type": "code",
      "source": [],
      "metadata": {
        "id": "FsdRxudPsTzy"
      },
      "execution_count": null,
      "outputs": []
    },
    {
      "cell_type": "code",
      "source": [],
      "metadata": {
        "id": "B-WtwhifsUEJ"
      },
      "execution_count": null,
      "outputs": []
    },
    {
      "cell_type": "markdown",
      "source": [
        "**Summary**"
      ],
      "metadata": {
        "id": "uo_TqcG8smXq"
      }
    },
    {
      "cell_type": "markdown",
      "source": [
        "Visualization"
      ],
      "metadata": {
        "id": "KxNNypHGspM5"
      }
    },
    {
      "cell_type": "code",
      "source": [],
      "metadata": {
        "id": "HkSpCjXwsoqD"
      },
      "execution_count": null,
      "outputs": []
    },
    {
      "cell_type": "markdown",
      "source": [
        "**Literature**\n",
        "\n",
        "[1] Weiszmann, Jakob, et al. \"Metabolome plasticity in 241 Arabidopsis thaliana accessions reveals evolutionary cold adaptation processes.\" Plant Physiology (2023): kiad298.\n",
        "\n",
        "[2] Gemmer, M.R., Richter, C., Jiang, Y., Schmutzer, T., Raorane, M.L., Junker, B., Pillen, K. and Maurer, A., 2020. Can metabolic prediction be an alternative to genomic prediction in barley?. PLoS One, 15(6), p.e0234052.\n",
        "\n",
        "[3] Millet, E.J., Welcker, C., Kruijer, W., Negro, S., Coupel-Ledru, A., Nicolas, S.D., Laborde, J., Bauland, C., Praud, S., Ranc, N. and Presterl, T., 2016. Genome-wide analysis of yield in Europe: allelic effects vary with drought and heat scenarios. Plant Physiology, 172(2), pp.749-764."
      ],
      "metadata": {
        "id": "BQFbStxBohZ7"
      }
    }
  ]
}